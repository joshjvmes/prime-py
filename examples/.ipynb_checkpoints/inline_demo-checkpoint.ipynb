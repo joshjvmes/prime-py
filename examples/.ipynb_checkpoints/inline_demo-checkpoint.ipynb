{
 "cells": [
  {
   "cell_type": "markdown",
   "metadata": {},
   "source": [
    "# ParticleField Inline Three.js Embedding"
   ]
  },
  {
   "cell_type": "code",
   "execution_count": null,
   "metadata": {},
   "outputs": [],
   "source": [
    "import numpy as np\n",
    "import pandas as pd\n",
    "from particle_field import ParticleField\n",
    "from pythreejs import (BufferGeometry, BufferAttribute, PointsMaterial, Points,\n",
    "                        Scene, PerspectiveCamera, Renderer, OrbitControls, AmbientLight)\n"
   ]
  },
  {
   "cell_type": "code",
   "execution_count": null,
   "metadata": {},
   "outputs": [],
   "source": [
    "# Create example DataFrame (2D wave)\n",
    "t = np.linspace(0, 4*np.pi, 200)\n",
    "df = pd.DataFrame({ 'x': np.sin(t), 'y': np.cos(t) })\n",
    "# Initialize field and load DataFrame points\n",
    "field = ParticleField(count=2000, size=5.0)\n",
    "field.swirl_factor = 0.0\n",
    "field.noise_max_strength = 0.0\n",
    "field.from_dataframe(df, scale=3.0, morph=False)\n"
   ]
  },
  {
   "cell_type": "code",
   "execution_count": null,
   "metadata": {},
   "outputs": [],
   "source": [
    "# Build and display Three.js widget\n",
    "positions = field.positions.astype('float32')\n",
    "colors = field.colors[:, :3].astype('float32')\n",
    "geom = BufferGeometry(attributes={\n",
    "    'position': BufferAttribute(positions, normalized=False),\n",
    "    'color': BufferAttribute(colors, normalized=False),\n",
    "})\n",
    "mat = PointsMaterial(vertexColors='VertexColors', size=4)\n",
    "points = Points(geometry=geom, material=mat)\n",
    "# Scene and camera\n",
    "scene = Scene(children=[points, AmbientLight(color='#ffffff')])\n",
    "camera = PerspectiveCamera(position=[0, 0, 15], fov=75)\n",
    "controls = OrbitControls(controlling=camera)\n",
    "renderer = Renderer(camera=camera, scene=scene, controls=[controls], width=600, height=400)\n",
    "renderer"
   ]
  },
  {
   "cell_type": "markdown",
   "metadata": {},
   "source": [
    "## Morph to New Shape"
   ]
  },
  {
   "cell_type": "code",
   "execution_count": null,
   "metadata": {},
   "outputs": [],
   "source": [
    "# Morph to galaxy and update geometry\n",
    "field.set_shape('galaxy')\n",
    "field.trigger_morph(2000)\n",
    "# After waiting, update positions: replace with a loop or await\n",
    "positions[:] = field.positions.astype('float32')\n",
    "geom.attributes['position'].array = positions\n",
    "geom.attributes['position'].needsUpdate = True\n"
   ]
  }
 ],
 "metadata": {
  "kernelspec": {"display_name": "Python 3", "language": "python", "name": "python3"},
  "language_info": {"name": "python", "version": "3.8"}
 },
 "nbformat": 4,
 "nbformat_minor": 2
}